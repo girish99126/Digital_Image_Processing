{
 "cells": [
  {
   "cell_type": "markdown",
   "metadata": {},
   "source": [
    "# Basic Operations in opencv for digital image processing\n",
    "### objectives :\n",
    "  * What is an image?\n",
    "  * Binary representation of image?\n",
    "  * Most of the definition I wrote is my own so don't stick to it\n",
    "  \n",
    "  ```\n",
    "  pip install opencv-python\n",
    "  ```\n",
    "  \n",
    "\n",
    "####  Greyscale  Image is noting but a two dimensional array of numbers in range between [0,255]\n"
   ]
  },
  {
   "cell_type": "markdown",
   "metadata": {},
   "source": [
    "We use :\n",
    "* #### cv2.imread() for reading an image  \n",
    "* #### cv2.imshow() for showing an image\n",
    "* #### In grey scale pixels are in range of 0-255 here 0 means black color and 255 means white color\n",
    "* #### Remaining numbers  varies the intensities of black and white\n"
   ]
  },
  {
   "cell_type": "code",
   "execution_count": 1,
   "metadata": {},
   "outputs": [],
   "source": [
    "import cv2 as cv"
   ]
  },
  {
   "cell_type": "code",
   "execution_count": 2,
   "metadata": {
    "scrolled": true
   },
   "outputs": [
    {
     "name": "stdout",
     "output_type": "stream",
     "text": [
      "[[ 74  74  74 ...  80  80  80]\n",
      " [ 74  74  74 ...  80  80  80]\n",
      " [ 74  74  74 ...  80  80  80]\n",
      " ...\n",
      " [181 180 178 ... 233 233 233]\n",
      " [182 182 181 ... 226 226 226]\n",
      " [182 182 181 ... 221 221 221]]\n"
     ]
    }
   ],
   "source": [
    "#image is just a number in range 0-255\n",
    "#So here cv.imread is used to load the read the image\n",
    "img = cv.imread(\"temp.jpg\", 0)\n",
    "type(img)\n",
    "print(img)"
   ]
  },
  {
   "cell_type": "markdown",
   "metadata": {},
   "source": [
    "For the purpose  generating  an img with 200*200 total 40000 pixels .\n",
    "So we use random in numpy "
   ]
  },
  {
   "cell_type": "code",
   "execution_count": 3,
   "metadata": {},
   "outputs": [
    {
     "name": "stdout",
     "output_type": "stream",
     "text": [
      "[[151 240  46 ...  45 201 201]\n",
      " [142 166   3 ... 150 189  86]\n",
      " [ 41 212  29 ... 120 195  86]\n",
      " ...\n",
      " [101 100  36 ... 114  68 248]\n",
      " [ 65  40 163 ... 141  58  57]\n",
      " [ 67 176 154 ...  91 118  91]]\n"
     ]
    }
   ],
   "source": [
    "#now lets have some fun lets create a random image using numpy\n",
    "import numpy as np\n",
    "\n",
    "#for the purpose of radomly genarating an img with 200*200 total 40000 pixcels\n",
    "# randint(rang,(size))\n",
    "random_img = np.random.randint(255, size=(200, 200), dtype=np.uint8)\n",
    "print(random_img)\n",
    "#this picture is random noise\n",
    "cv.imshow(\"sd\", random_img)\n",
    "cv.waitKey(0)\n",
    "cv.destroyAllWindows()"
   ]
  },
  {
   "cell_type": "code",
   "execution_count": 6,
   "metadata": {},
   "outputs": [],
   "source": [
    "#image,color\n",
    "#1 means load color image\n",
    "#0 means load grayscale image\n",
    "#Loads image as such including alpha channel\n",
    "img1 = cv.imread(\"temp.jpg\", 0)\n",
    "img2 = cv.imread(\"temp.jpg\", 1)\n",
    "img3 = cv.imread(\"temp.jpg\", -1)\n",
    "\n",
    "cv.imshow(\"img\", img1)\n",
    "cv.imshow(\"img1\", img2)\n",
    "cv.imshow(\"img2\", img3)\n",
    "\n",
    "cv.waitKey(0)\n",
    "cv.destroyAllWindows()"
   ]
  },
  {
   "cell_type": "markdown",
   "metadata": {},
   "source": [
    "### From till now we learn about imshow and imread now lets look at another function imwrite \n",
    "### I think  you all guess what it dose .\n",
    "### It just write the image into a new Image \n",
    "#### syntax:\n",
    "```\n",
    "cv2.imwrite(filename,img)\n",
    "```"
   ]
  },
  {
   "cell_type": "code",
   "execution_count": 5,
   "metadata": {},
   "outputs": [],
   "source": [
    "#read image\n",
    "img = cv.imread(\"temp.jpg\", 0)\n",
    "#show the image\n",
    "cv.imshow(\"image\", img)\n",
    "#now write the image\n",
    "cv.imwrite(\"new_temp.jpg\", img)\n",
    "\n",
    "#it is the new image which is just saved in your current directory\n",
    "writes_img = cv.imread(\"new_temp.jpg\", 0)\n",
    "cv.imshow(\"newly writed image\", writes_img)\n",
    "\n",
    "cv.waitKey(0)\n",
    "cv.destroyAllWindows()"
   ]
  },
  {
   "cell_type": "markdown",
   "metadata": {},
   "source": [
    "### These are the basic operation we use more often in DIP next here \n",
    "#### There is another one which I used at end of every cell execution \n",
    "```\n",
    "cv.waitKey(0)\n",
    "cv.destroyAllWindows()\n",
    "```\n",
    "#### Here cv2.waitKey(0) means It wait the image view until the user hit  a key from keyboard (or) click on close symbol\n",
    "#### cv.destroyAllWindows() is used for if user hit a key from keyboard it will close all the image views \n",
    "#### Lets see an example on these two instructions 👇"
   ]
  },
  {
   "cell_type": "code",
   "execution_count": 9,
   "metadata": {},
   "outputs": [
    {
     "name": "stdout",
     "output_type": "stream",
     "text": [
      "101\n"
     ]
    }
   ],
   "source": [
    "dhoni_img = cv.imread(\"dhoni.jpg\",1)\n",
    "cv.imshow(\"dhoni\",dhoni_img)\n",
    "\n",
    "key_pressed = cv.waitKey(0)\n",
    "print(key_pressed)\n",
    "if(key_pressed== ord('c')):\n",
    "    cv.destroyAllWindows()\n",
    "    print(\"All tabs are closed\")"
   ]
  },
  {
   "cell_type": "markdown",
   "metadata": {},
   "source": [
    "> Thank  you if your interested add more examples to this notebook .\n",
    "> Please Ignore my notebook if I mention anything wrong .Feel free to mention it in comment section.Modifications and contributions are appreciated\n"
   ]
  },
  {
   "cell_type": "code",
   "execution_count": null,
   "metadata": {},
   "outputs": [],
   "source": []
  }
 ],
 "metadata": {
  "kernelspec": {
   "display_name": "Python 3",
   "language": "python",
   "name": "python3"
  },
  "language_info": {
   "codemirror_mode": {
    "name": "ipython",
    "version": 3
   },
   "file_extension": ".py",
   "mimetype": "text/x-python",
   "name": "python",
   "nbconvert_exporter": "python",
   "pygments_lexer": "ipython3",
   "version": "3.8.3"
  }
 },
 "nbformat": 4,
 "nbformat_minor": 4
}
