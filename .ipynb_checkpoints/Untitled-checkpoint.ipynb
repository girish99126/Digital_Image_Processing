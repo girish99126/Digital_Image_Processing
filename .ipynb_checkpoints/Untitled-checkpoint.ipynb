{
 "cells": [
  {
   "cell_type": "markdown",
   "metadata": {},
   "source": [
    "## Girish Kumar \n",
    "## ID:N160485"
   ]
  },
  {
   "cell_type": "code",
   "execution_count": 2,
   "metadata": {},
   "outputs": [],
   "source": [
    "import cv2 as cv\n",
    "import numpy as np\n",
    "import matplotlib.pyplot as plt\n"
   ]
  },
  {
   "cell_type": "markdown",
   "metadata": {},
   "source": [
    "# Image Histogram\n",
    "* Let Just creat a 150*150 size image with full black and see the result of histrogram...\n",
    "* we need to install this packages below mentioned\n",
    "* pip install opencv2-python\n",
    "* pip install numpy\n"
   ]
  },
  {
   "cell_type": "code",
   "execution_count": 3,
   "metadata": {},
   "outputs": [
    {
     "data": {
      "image/png": "[encoded data removed]",
      "text/plain": [
       "<Figure size 432x288 with 1 Axes>"
      ]
     },
     "metadata": {
      "needs_background": "light"
     },
     "output_type": "display_data"
    }
   ],
   "source": [
    "#let create a image with pixel value is zero\n",
    "\n",
    "\n",
    "img  = np.zeros((300,300),np.uint8)\n",
    "\n",
    "\n",
    "cv.imshow(\"img\",img)\n",
    "\n",
    "\n",
    "cv.waitKey(0)\n",
    "cv.destroyAllWindows()\n",
    "\n",
    "\n",
    "plt.hist(img.ravel(),256,[0,256])\n",
    "plt.show()"
   ]
  },
  {
   "cell_type": "code",
   "execution_count": 4,
   "metadata": {
    "scrolled": true
   },
   "outputs": [
    {
     "data": {
      "image/png": "[encoded data removed]",
      "text/plain": [
       "<Figure size 432x288 with 1 Axes>"
      ]
     },
     "metadata": {
      "needs_background": "light"
     },
     "output_type": "display_data"
    }
   ],
   "source": [
    "#this is the instal pic with only balck color in it so  pixcels are all zero\n",
    "img  = np.zeros((300,300),np.uint8)\n",
    "\n",
    "#now add a rectangle with white pixcels value is 255 so let make hlaf white and half black\n",
    "#rectangle take img, coordinate of x and y ,color ,thickness\n",
    "cv.rectangle(img,(0,150),(300,300),(255),-1)\n",
    "cv.imshow(\"img\",img)\n",
    "\n",
    "\n",
    "cv.waitKey(0)\n",
    "cv.destroyAllWindows()\n",
    "\n",
    "\n",
    "#this histogram look like equal intensity of white and black pixcels\n",
    "plt.hist(img.ravel(),256,[0,256])\n",
    "plt.show()\n"
   ]
  },
  {
   "cell_type": "code",
   "execution_count": 5,
   "metadata": {},
   "outputs": [
    {
     "data": {
      "image/png": "[encoded data removed]",
      "text/plain": [
       "<Figure size 432x288 with 1 Axes>"
      ]
     },
     "metadata": {
      "needs_background": "light"
     },
     "output_type": "display_data"
    }
   ],
   "source": [
    "#this is the instal pic with only balck color in it so  pixcels are all zero\n",
    "img  = np.zeros((300,300),np.uint8)\n",
    "\n",
    "#now add a rectangle with white pixcels value is 255 so let make hlaf white and half black\n",
    "#rectangle take img, coordinate of x and y ,color ,thickness\n",
    "cv.rectangle(img,(0,50),(300,300),(255),-1)\n",
    "\n",
    "#rectangle take img, coordinate of x and y ,color(grey) ,thickness\n",
    "cv.rectangle(img,(0,100),(300,300),(127),-1)\n",
    "cv.imshow(\"img\",img)\n",
    "\n",
    "\n",
    "cv.waitKey(0)\n",
    "cv.destroyAllWindows()\n",
    "\n",
    "\n",
    "#this histogram look like some grey pixels are more thank white and black picels\n",
    "plt.hist(img.ravel(),256,[0,256])\n",
    "plt.show()\n",
    " "
   ]
  },
  {
   "cell_type": "markdown",
   "metadata": {},
   "source": [
    "## now look at original image instead of black and white pixcels"
   ]
  },
  {
   "cell_type": "code",
   "execution_count": 13,
   "metadata": {},
   "outputs": [
    {
     "data": {
      "image/png": "[encoded data removed]",
      "text/plain": [
       "<Figure size 432x288 with 1 Axes>"
      ]
     },
     "metadata": {
      "needs_background": "light"
     },
     "output_type": "display_data"
    }
   ],
   "source": [
    "img = cv.imread(\"temp.jpg\")\n",
    "cv.imshow(\"img\",img)\n",
    "\n",
    "\n",
    "#this histogram look like pixcels values are well scattered within the range \n",
    "plt.hist(img.ravel(),256,[0,256])\n",
    "plt.show()\n",
    " \n",
    "cv.waitKey(0)\n",
    "cv.destroyAllWindows()"
   ]
  },
  {
   "cell_type": "code",
   "execution_count": 17,
   "metadata": {},
   "outputs": [
    {
     "data": {
      "image/png": "[encoded data removed]",
      "text/plain": [
       "<Figure size 432x288 with 1 Axes>"
      ]
     },
     "metadata": {
      "needs_background": "light"
     },
     "output_type": "display_data"
    }
   ],
   "source": [
    "img = cv.imread(\"temp.jpg\")\n",
    "\n",
    "b, g,r = cv.split(img)\n",
    "cv.imshow(\"b\",b)\n",
    "cv.imshow(\"g\",g)\n",
    "cv.imshow(\"r\",r)\n",
    "\n",
    "\n",
    "cv.imshow(\"img\",img)\n",
    " \n",
    "cv.waitKey(0)\n",
    "cv.destroyAllWindows()\n",
    "\n",
    "#this histogram look like pixcels values are well scattered within the range \n",
    "plt.hist(b.ravel(),256,[0,256])\n",
    "plt.hist(g.ravel(),256,[0,256])\n",
    "plt.hist(r.ravel(),256,[0,256])\n",
    "plt.hist(img.ravel(),256,[0,256])\n",
    "plt.show()\n"
   ]
  },
  {
   "cell_type": "code",
   "execution_count": null,
   "metadata": {},
   "outputs": [],
   "source": []
  }
 ],
 "metadata": {
  "kernelspec": {
   "display_name": "Python 3",
   "language": "python",
   "name": "python3"
  },
  "language_info": {
   "codemirror_mode": {
    "name": "ipython",
    "version": 3
   },
   "file_extension": ".py",
   "mimetype": "text/x-python",
   "name": "python",
   "nbconvert_exporter": "python",
   "pygments_lexer": "ipython3",
   "version": "3.8.3"
  }
 },
 "nbformat": 4,
 "nbformat_minor": 4
}
