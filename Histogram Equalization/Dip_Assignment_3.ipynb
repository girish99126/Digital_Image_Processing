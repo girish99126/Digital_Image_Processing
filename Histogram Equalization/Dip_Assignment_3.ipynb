{
 "cells": [
  {
   "cell_type": "markdown",
   "metadata": {},
   "source": [
    "## Histogram Equalization \n",
    "### Girish Kumar\n",
    "### N160485\n",
    "\n",
    "\n",
    "<b> Calculation reference from this image </b>\n",
    "Below code is based on the image\n",
    "\n",
    "<img src=\"cal_ref.png\">,\n"
   ]
  },
  {
   "cell_type": "code",
   "execution_count": 1,
   "metadata": {},
   "outputs": [],
   "source": [
    "import pandas as pd\n",
    "import numpy as np\n",
    "import cv2 as cv\n"
   ]
  },
  {
   "cell_type": "code",
   "execution_count": 2,
   "metadata": {},
   "outputs": [],
   "source": [
    "import matplotlib.pyplot as plt"
   ]
  },
  {
   "cell_type": "code",
   "execution_count": 3,
   "metadata": {},
   "outputs": [
    {
     "name": "stdout",
     "output_type": "stream",
     "text": [
      "{0: 0, 1: 0, 2: 0, 3: 0, 4: 0, 5: 0, 6: 0, 7: 0}\n",
      "dict_keys([0, 1, 2, 3, 4, 5, 6, 7])\n",
      "[0, 0, 0, 2, 6, 7, 7, 7]\n",
      "{0: 0, 1: 0, 2: 0, 3: 2, 4: 6, 5: 7, 6: 7}\n",
      "[[6 6 6 6 6]\n",
      " [2 6 7 6 2]\n",
      " [2 7 7 7 2]\n",
      " [2 6 7 6 2]\n",
      " [6 6 6 6 6]]\n"
     ]
    },
    {
     "data": {
      "image/png": "[encoded data removed]",
      "text/plain": [
       "<Figure size 432x288 with 1 Axes>"
      ]
     },
     "metadata": {
      "needs_background": "light"
     },
     "output_type": "display_data"
    },
    {
     "data": {
      "image/png": "[encoded data removed]",
      "text/plain": [
       "<Figure size 432x288 with 1 Axes>"
      ]
     },
     "metadata": {
      "needs_background": "light"
     },
     "output_type": "display_data"
    },
    {
     "data": {
      "text/html": [
       "<div>\n",
       "<style scoped>\n",
       "    .dataframe tbody tr th:only-of-type {\n",
       "        vertical-align: middle;\n",
       "    }\n",
       "\n",
       "    .dataframe tbody tr th {\n",
       "        vertical-align: top;\n",
       "    }\n",
       "\n",
       "    .dataframe thead th {\n",
       "        text-align: right;\n",
       "    }\n",
       "</style>\n",
       "<table border=\"1\" class=\"dataframe\">\n",
       "  <thead>\n",
       "    <tr style=\"text-align: right;\">\n",
       "      <th></th>\n",
       "      <th>grey-level</th>\n",
       "      <th>pixcel_freq</th>\n",
       "      <th>pdf</th>\n",
       "      <th>cdf</th>\n",
       "      <th>new_pixecl</th>\n",
       "      <th>appox_pixel</th>\n",
       "    </tr>\n",
       "  </thead>\n",
       "  <tbody>\n",
       "    <tr>\n",
       "      <th>0</th>\n",
       "      <td>0</td>\n",
       "      <td>0</td>\n",
       "      <td>0.00</td>\n",
       "      <td>0.00</td>\n",
       "      <td>0.00</td>\n",
       "      <td>0</td>\n",
       "    </tr>\n",
       "    <tr>\n",
       "      <th>1</th>\n",
       "      <td>1</td>\n",
       "      <td>0</td>\n",
       "      <td>0.00</td>\n",
       "      <td>0.00</td>\n",
       "      <td>0.00</td>\n",
       "      <td>0</td>\n",
       "    </tr>\n",
       "    <tr>\n",
       "      <th>2</th>\n",
       "      <td>2</td>\n",
       "      <td>0</td>\n",
       "      <td>0.00</td>\n",
       "      <td>0.00</td>\n",
       "      <td>0.00</td>\n",
       "      <td>0</td>\n",
       "    </tr>\n",
       "    <tr>\n",
       "      <th>3</th>\n",
       "      <td>3</td>\n",
       "      <td>6</td>\n",
       "      <td>0.24</td>\n",
       "      <td>0.24</td>\n",
       "      <td>1.68</td>\n",
       "      <td>2</td>\n",
       "    </tr>\n",
       "    <tr>\n",
       "      <th>4</th>\n",
       "      <td>4</td>\n",
       "      <td>14</td>\n",
       "      <td>0.56</td>\n",
       "      <td>0.80</td>\n",
       "      <td>5.60</td>\n",
       "      <td>6</td>\n",
       "    </tr>\n",
       "    <tr>\n",
       "      <th>5</th>\n",
       "      <td>5</td>\n",
       "      <td>5</td>\n",
       "      <td>0.20</td>\n",
       "      <td>1.00</td>\n",
       "      <td>7.00</td>\n",
       "      <td>7</td>\n",
       "    </tr>\n",
       "    <tr>\n",
       "      <th>6</th>\n",
       "      <td>6</td>\n",
       "      <td>0</td>\n",
       "      <td>0.00</td>\n",
       "      <td>1.00</td>\n",
       "      <td>7.00</td>\n",
       "      <td>7</td>\n",
       "    </tr>\n",
       "    <tr>\n",
       "      <th>7</th>\n",
       "      <td>7</td>\n",
       "      <td>0</td>\n",
       "      <td>0.00</td>\n",
       "      <td>1.00</td>\n",
       "      <td>7.00</td>\n",
       "      <td>7</td>\n",
       "    </tr>\n",
       "  </tbody>\n",
       "</table>\n",
       "</div>"
      ],
      "text/plain": [
       "   grey-level  pixcel_freq   pdf   cdf  new_pixecl  appox_pixel\n",
       "0           0            0  0.00  0.00        0.00            0\n",
       "1           1            0  0.00  0.00        0.00            0\n",
       "2           2            0  0.00  0.00        0.00            0\n",
       "3           3            6  0.24  0.24        1.68            2\n",
       "4           4           14  0.56  0.80        5.60            6\n",
       "5           5            5  0.20  1.00        7.00            7\n",
       "6           6            0  0.00  1.00        7.00            7\n",
       "7           7            0  0.00  1.00        7.00            7"
      ]
     },
     "execution_count": 3,
     "metadata": {},
     "output_type": "execute_result"
    }
   ],
   "source": [
    "#let take an 2d numpy array as image\n",
    "img = np.array([[4,4,4,4,4],[3,4,5,4,3],[3,5,5,5,3],[3,4,5,4,3],[4,4,4,4,4]],dtype=np.uint8)\n",
    "#find the max pixcel value in image\n",
    "max_pixel=img.max()\n",
    "\n",
    "# let find the number of bits requried to max pixel in image my case is 3 for max pixcel 5 2**3=8 it is near to 5\n",
    "gray_level =np.arange(0,2**3)\n",
    "\n",
    "#intialize the dict\n",
    "count_dict={}\n",
    "\n",
    "#for the gray_level value [0,1,2....7]\n",
    "for i in range(0,2**3):\n",
    "    count_dict[i]=0\n",
    "print(count_dict)\n",
    "# it prints {0: 0, 1: 0, 2: 0, 3: 0, 4: 0, 5: 0, 6: 0, 7: 0}\n",
    "\n",
    "\n",
    "# for find the freq for each pixel in image\n",
    "for i in img:\n",
    "    for  j in i:\n",
    "        if(j not in count_dict):\n",
    "            count_dict[j]=1\n",
    "        else:\n",
    "            count_dict[j]=count_dict[j]+1\n",
    "    \n",
    "\n",
    "print(count_dict.keys())\n",
    "#it prints {0: 0, 1: 0, 2: 0, 3: 2, 4: 6, 5: 7, 6: 7}\n",
    "\n",
    "#for the ease of making some statics i use pandas \n",
    "d=count_dict.keys()\n",
    "pd.DataFrame()\n",
    "\n",
    "df= pd.DataFrame({\"grey-level\":list(count_dict.keys()),\"pixcel_freq\":list(count_dict.values())})\n",
    "\n",
    "sum = df[\"pixcel_freq\"].sum()\n",
    "\n",
    "#pdf=pixel_freq/sum\n",
    "\n",
    "df['pdf']=df['pixcel_freq']/sum\n",
    "df['cdf']=df['pdf'].cumsum()\n",
    "\n",
    "#new_pixcel=cdf*7 where 7 is the maxium pixel from the 3 bits\n",
    "df['new_pixecl']=df['cdf']*7\n",
    "df['appox_pixel']=df['new_pixecl'].round().astype(int)\n",
    "\n",
    "s=df['appox_pixel'].tolist()\n",
    "\n",
    "print(s)\n",
    "r=[i for i in range(0,7)]\n",
    "new_img_dict = dict(zip(r,s))\n",
    "print(new_img_dict)\n",
    "\n",
    "\n",
    "\n",
    "for i in range(len(img)):\n",
    "    for j in range(len(img[i])):\n",
    "        img[i][j]=new_img_dict[img[i][j]]\n",
    "       \n",
    "new_img=img\n",
    "\n",
    "#print new img \n",
    "print(new_img)\n",
    "\n",
    "#plot the changes in histogram\n",
    "plt.title(\"Old Image Histogram before Histogram Equalization\")\n",
    "plt.xlabel(\"r values\")\n",
    "plt.ylabel(\"frequency\")\n",
    "plt.bar(list(count_dict.keys()), count_dict.values(), color='g')\n",
    "plt.show()\n",
    "plt.title(\"New Image Histogram After Histogram Equalization\")\n",
    "plt.xlabel(\"r values\")\n",
    "plt.ylabel(\"frequency\")\n",
    "plt.bar(list(new_img_dict.keys()), new_img_dict.values(), color='g')\n",
    "plt.show()\n",
    "\n",
    "df\n"
   ]
  },
  {
   "cell_type": "code",
   "execution_count": 4,
   "metadata": {},
   "outputs": [
    {
     "data": {
      "text/plain": [
       "-1"
      ]
     },
     "execution_count": 4,
     "metadata": {},
     "output_type": "execute_result"
    }
   ],
   "source": [
    "cv.imshow(\"img\",img)\n",
    "cv.waitKey(0)"
   ]
  },
  {
   "cell_type": "code",
   "execution_count": 15,
   "metadata": {},
   "outputs": [
    {
     "name": "stdout",
     "output_type": "stream",
     "text": [
      "255\n"
     ]
    },
    {
     "data": {
      "image/png": "[encoded data removed]",
      "text/plain": [
       "<Figure size 432x288 with 1 Axes>"
      ]
     },
     "metadata": {
      "needs_background": "light"
     },
     "output_type": "display_data"
    },
    {
     "data": {
      "image/png": "[encoded data removed]",
      "text/plain": [
       "<Figure size 432x288 with 1 Axes>"
      ]
     },
     "metadata": {
      "needs_background": "light"
     },
     "output_type": "display_data"
    },
    {
     "data": {
      "text/plain": [
       "-1"
      ]
     },
     "execution_count": 15,
     "metadata": {},
     "output_type": "execute_result"
    }
   ],
   "source": [
    "# with using openCv\n",
    "\n",
    "img = cv.imread(\"temp.jpg\",0)\n",
    "print(img.max())\n",
    "\n",
    "\n",
    "cv.imshow(\"img\",img)\n",
    "plt.title(\"Before Histogram Equalization\")\n",
    "plt.xlabel('pixels')\n",
    "plt.ylabel(\"pixels frequency\")\n",
    "plt.hist(img.ravel(),256,[0,256])\n",
    "plt.show()\n",
    "\n",
    "#cv.equalizeHist(image) make the hoistogram equalize\n",
    "equ=cv.equalizeHist(img)\n",
    "cv.imshow(\"equ\",equ)\n",
    "\n",
    "plt.title(\"After Histogram Equalization\")\n",
    "plt.xlabel('pixels')\n",
    "plt.ylabel(\"pixels frequency\")\n",
    "plt.hist(res.ravel(),256,[0,256],color=\"red\")\n",
    "plt.show()\n",
    "\n",
    "\n",
    "cv.waitKey(0)"
   ]
  },
  {
   "cell_type": "code",
   "execution_count": null,
   "metadata": {},
   "outputs": [],
   "source": []
  },
  {
   "cell_type": "code",
   "execution_count": null,
   "metadata": {},
   "outputs": [],
   "source": []
  },
  {
   "cell_type": "code",
   "execution_count": null,
   "metadata": {},
   "outputs": [],
   "source": []
  }
 ],
 "metadata": {
  "kernelspec": {
   "display_name": "Python 3",
   "language": "python",
   "name": "python3"
  },
  "language_info": {
   "codemirror_mode": {
    "name": "ipython",
    "version": 3
   },
   "file_extension": ".py",
   "mimetype": "text/x-python",
   "name": "python",
   "nbconvert_exporter": "python",
   "pygments_lexer": "ipython3",
   "version": "3.8.3"
  }
 },
 "nbformat": 4,
 "nbformat_minor": 4
}
